{
 "cells": [
  {
   "cell_type": "code",
   "execution_count": 15,
   "metadata": {
    "collapsed": true
   },
   "outputs": [],
   "source": [
    "class Point(object):\n",
    "    def __init__(self, x, y):\n",
    "        self.x = x\n",
    "        self.y = y\n",
    "        \n",
    "    def __str__(self):\n",
    "        return '<%s, %s>' % (self.x, self.y)\n",
    "\n",
    "class Reward(Point):\n",
    "    def __init__(self, x, y, name):\n",
    "        super(Reward, self).__init__(x, y)\n",
    "        self.name = name\n",
    "    \n",
    "    def __str__(self):\n",
    "        return '<%s, %s>: %s' % (self.x, self.y, self.name)\n",
    "    \n",
    "    def __repr__(self):\n",
    "        return '<Reward> %s' % str(self)\n",
    "        \n",
    "class Robo(object):\n",
    "    def __init__(self, x, y):\n",
    "        self.x = x\n",
    "        self.y = y\n",
    "    def move_up(self):\n",
    "        if self.y < 10:\n",
    "            self.y = self.y + 1\n",
    "        else:\n",
    "            print('Movimento proibido')\n",
    "    def move_down(self):\n",
    "        if self.y > 0:\n",
    "            self.y = self.y - 1\n",
    "        else:\n",
    "            print('Movimento proibido')\n",
    "    def move_left(self):\n",
    "        if self.x > 0:\n",
    "            self.x = self.x - 1\n",
    "        else:\n",
    "            print('Movimento proibido')\n",
    "    def move_rigth(self):\n",
    "        if self.x < 10:\n",
    "            self.x = self.x + 1\n",
    "        else:\n",
    "            print('Movimento proibido')"
   ]
  },
  {
   "cell_type": "code",
   "execution_count": 16,
   "metadata": {
    "collapsed": true
   },
   "outputs": [],
   "source": [
    "def check_reward(robot, rewards):\n",
    "    ok = False\n",
    "    for reward in rewards:\n",
    "        if reward.x == robot.x and reward.y == robot.y:\n",
    "            print(\"O robô achou a recompensa: %s\" % reward.name)\n",
    "            ok = True\n",
    "    return ok"
   ]
  },
  {
   "cell_type": "code",
   "execution_count": 17,
   "metadata": {
    "collapsed": true
   },
   "outputs": [],
   "source": [
    "import random"
   ]
  },
  {
   "cell_type": "code",
   "execution_count": 18,
   "metadata": {
    "collapsed": false
   },
   "outputs": [],
   "source": [
    "r1 = Reward(random.randint(0, 10), random.randint(0, 10), 'moeda')\n",
    "r2 = Reward(random.randint(0, 10), random.randint(0, 10), 'gasolina')\n",
    "r3 = Reward(random.randint(0, 10), random.randint(0, 10), 'arma')\n",
    "rewards = [r1, r2, r3]"
   ]
  },
  {
   "cell_type": "code",
   "execution_count": 19,
   "metadata": {
    "collapsed": false
   },
   "outputs": [
    {
     "data": {
      "text/plain": [
       "[<Reward> <10, 1>: moeda, <Reward> <0, 7>: gasolina, <Reward> <2, 2>: arma]"
      ]
     },
     "execution_count": 19,
     "metadata": {},
     "output_type": "execute_result"
    }
   ],
   "source": [
    "rewards"
   ]
  },
  {
   "cell_type": "code",
   "execution_count": 20,
   "metadata": {
    "collapsed": false
   },
   "outputs": [
    {
     "name": "stdout",
     "output_type": "stream",
     "text": [
      "<10, 1>: moeda\n"
     ]
    }
   ],
   "source": [
    "print(r1)"
   ]
  },
  {
   "cell_type": "code",
   "execution_count": 21,
   "metadata": {
    "collapsed": false
   },
   "outputs": [
    {
     "data": {
      "text/plain": [
       "'<10, 1>: moeda'"
      ]
     },
     "execution_count": 21,
     "metadata": {},
     "output_type": "execute_result"
    }
   ],
   "source": [
    "str(r1)"
   ]
  },
  {
   "cell_type": "code",
   "execution_count": null,
   "metadata": {
    "collapsed": false
   },
   "outputs": [],
   "source": []
  }
 ],
 "metadata": {
  "kernelspec": {
   "display_name": "Python 3",
   "language": "python",
   "name": "python3"
  },
  "language_info": {
   "codemirror_mode": {
    "name": "ipython",
    "version": 3
   },
   "file_extension": ".py",
   "mimetype": "text/x-python",
   "name": "python",
   "nbconvert_exporter": "python",
   "pygments_lexer": "ipython3",
   "version": "3.6.0"
  }
 },
 "nbformat": 4,
 "nbformat_minor": 2
}
